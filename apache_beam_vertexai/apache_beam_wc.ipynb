{
 "cells": [
  {
   "cell_type": "code",
   "execution_count": 1,
   "id": "563b371b-bcb7-4ed1-ad17-f0b641b47cd4",
   "metadata": {},
   "outputs": [],
   "source": [
    "from google_cloud_pipeline_components.experimental.dataflow import DataflowPythonJobOp\n",
    "from google_cloud_pipeline_components.experimental.wait_gcp_resources import WaitGcpResourcesOp"
   ]
  },
  {
   "cell_type": "code",
   "execution_count": 2,
   "id": "4c7ff80d-ba3c-4277-9da8-855d45898f8a",
   "metadata": {},
   "outputs": [],
   "source": [
    "import kfp.dsl as dsl\n",
    "import json"
   ]
  },
  {
   "cell_type": "code",
   "execution_count": 3,
   "id": "144b4d83-e35d-4a20-842f-35b129e76707",
   "metadata": {},
   "outputs": [],
   "source": [
    "PROJECT_ID = 'hd-datascience-np'\n",
    "LOCATION = \"us-central1\"\n",
    "PIPELINE_ROOT = 'gs://hd-datascience-np-data/hotspot/' # No ending slash\n",
    "\n",
    "# Dataflow sample parameters\n",
    "PIPELINE_NAME = 'dataflow-pipeline-sample'\n",
    "OUTPUT_FILE = '{}/wc/wordcount.out'.format(PIPELINE_ROOT)"
   ]
  },
  {
   "cell_type": "code",
   "execution_count": 4,
   "id": "54dbc385-b841-4dae-a4ac-cf8c662d5796",
   "metadata": {},
   "outputs": [
    {
     "name": "stdout",
     "output_type": "stream",
     "text": [
      "Help on function Launch Python:\n",
      "\n",
      "Launch Python(python_file_path: str, project_id: str, region: str, staging_dir: 'GCSPath' = '', requirements_file_path: 'GCSPath' = '', args: list = '[]', wait_interval: int = '30')\n",
      "    Launch Python\n",
      "    Launch a self-executing beam python file.\n",
      "\n"
     ]
    }
   ],
   "source": [
    "import kfp.components as comp\n",
    "\n",
    "dataflow_python_op = comp.load_component_from_url('https://raw.githubusercontent.com/kubeflow/pipelines/1.7.0-rc.3/components/gcp/dataflow/launch_python/component.yaml')\n",
    "help(dataflow_python_op)"
   ]
  },
  {
   "cell_type": "code",
   "execution_count": 5,
   "id": "0e25d3b9-6740-493b-8a81-bb69aa991516",
   "metadata": {},
   "outputs": [],
   "source": [
    "import kfp.dsl as dsl\n",
    "import json\n",
    "\n",
    "@dsl.pipeline(\n",
    "    name=PIPELINE_NAME,\n",
    "    description='Dataflow launch python pipeline'\n",
    ")\n",
    "def pipeline(\n",
    "    python_file_path:str = 'gs://ml-pipeline-playground/samples/dataflow/wc/wc.py',\n",
    "    project_id:str = PROJECT_ID,\n",
    "    location:str = LOCATION,\n",
    "    staging_dir:str = PIPELINE_ROOT,\n",
    "    requirements_file_path:str = 'gs://ml-pipeline-playground/samples/dataflow/wc/requirements.txt',\n",
    "):\n",
    "    dataflow_python_op = DataflowPythonJobOp(\n",
    "        project=project_id,\n",
    "        location=location,\n",
    "        python_module_path=python_file_path,\n",
    "        temp_location = staging_dir,\n",
    "        requirements_file_path = requirements_file_path,\n",
    "        args = ['--output', OUTPUT_FILE],\n",
    "    )\n",
    "    dataflow_wait_op = WaitGcpResourcesOp(\n",
    "      gcp_resources = dataflow_python_op.outputs[\"gcp_resources\"])"
   ]
  },
  {
   "cell_type": "code",
   "execution_count": 7,
   "id": "0cb19f0f-35f7-4b21-ae4d-07f592729d80",
   "metadata": {},
   "outputs": [
    {
     "name": "stderr",
     "output_type": "stream",
     "text": [
      "/opt/conda/envs/python38/lib/python3.8/site-packages/kfp/v2/compiler/compiler.py:1290: FutureWarning: APIs imported from the v1 namespace (e.g. kfp.dsl, kfp.components, etc) will not be supported by the v2 compiler since v2.0.0\n",
      "  warnings.warn(\n"
     ]
    }
   ],
   "source": [
    "pipeline_func = pipeline\n",
    "# pipeline_filename = pipeline_func.__name__ + '.zip'\n",
    "from kfp.v2 import compiler\n",
    "compiler.Compiler().compile(pipeline_func, package_path='dataflow-pipeline-sample.json')"
   ]
  },
  {
   "cell_type": "code",
   "execution_count": 8,
   "id": "c969aeb7-42bc-44cb-abc8-4abdc33a73f3",
   "metadata": {},
   "outputs": [
    {
     "name": "stderr",
     "output_type": "stream",
     "text": [
      "/opt/conda/envs/python38/lib/python3.8/site-packages/kfp/v2/google/client/client.py:169: FutureWarning: AIPlatformClient will be deprecated in v2.0.0. Please use PipelineJob https://googleapis.dev/python/aiplatform/latest/_modules/google/cloud/aiplatform/pipeline_jobs.html in Vertex SDK. Install the SDK using \"pip install google-cloud-aiplatform\"\n",
      "  warnings.warn(\n"
     ]
    },
    {
     "data": {
      "text/html": [
       "See the Pipeline job <a href=\"https://console.cloud.google.com/vertex-ai/locations/us-central1/pipelines/runs/dataflow-pipeline-sample-20221230192516?project=hd-datascience-np\" target=\"_blank\" >here</a>."
      ],
      "text/plain": [
       "<IPython.core.display.HTML object>"
      ]
     },
     "metadata": {},
     "output_type": "display_data"
    }
   ],
   "source": [
    "# #Specify values for the pipeline's arguments\n",
    "# arguments = {}\n",
    "\n",
    "# #Get or create an experiment\n",
    "# import kfp\n",
    "# client = kfp.Client()\n",
    "# experiment = client.create_experiment(EXPERIMENT_NAME)\n",
    "\n",
    "# #Submit a pipeline run\n",
    "# run_name = pipeline_func.__name__ + ' run'\n",
    "# run_result = client.run_pipeline(experiment.id, run_name, pipeline_filename, arguments)\n",
    "\n",
    "from kfp.v2.google.client import AIPlatformClient\n",
    "\n",
    "api_client = AIPlatformClient(\n",
    "                project_id=PROJECT_ID,\n",
    "                region=LOCATION\n",
    "                )\n",
    "\n",
    "response = api_client.create_run_from_job_spec(\n",
    "    job_spec_path=\"dataflow-pipeline-sample.json\",\n",
    "    enable_caching =False,\n",
    "    service_account='visual-ui-pipeline-sa@hd-datascience-np.iam.gserviceaccount.com',\n",
    "    pipeline_root=PIPELINE_ROOT  # this argument is necessary if you did not specify PIPELINE_ROOT as part of the pipeline definition.\n",
    ")"
   ]
  },
  {
   "cell_type": "code",
   "execution_count": 9,
   "id": "4b8dfa55-5cff-436e-a478-5cfb72a15fb7",
   "metadata": {},
   "outputs": [
    {
     "name": "stdout",
     "output_type": "stream",
     "text": [
      "CommandException: No URLs matched: gs://hd-datascience-np-data/hotspot//wc/wordcount.out\n"
     ]
    }
   ],
   "source": [
    "!gsutil cat $OUTPUT_FILE"
   ]
  },
  {
   "cell_type": "code",
   "execution_count": null,
   "id": "002c344e-c6e4-4d7c-82d2-b96b4423f85d",
   "metadata": {},
   "outputs": [],
   "source": []
  }
 ],
 "metadata": {
  "environment": {
   "kernel": "python38",
   "name": "common-cu110.m102",
   "type": "gcloud",
   "uri": "gcr.io/deeplearning-platform-release/base-cu110:m102"
  },
  "kernelspec": {
   "display_name": "python38",
   "language": "python",
   "name": "python38"
  },
  "language_info": {
   "codemirror_mode": {
    "name": "ipython",
    "version": 3
   },
   "file_extension": ".py",
   "mimetype": "text/x-python",
   "name": "python",
   "nbconvert_exporter": "python",
   "pygments_lexer": "ipython3",
   "version": "3.8.15"
  }
 },
 "nbformat": 4,
 "nbformat_minor": 5
}
